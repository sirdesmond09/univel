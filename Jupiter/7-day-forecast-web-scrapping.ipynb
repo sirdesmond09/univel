{
 "cells": [
  {
   "cell_type": "code",
   "execution_count": 47,
   "metadata": {},
   "outputs": [],
   "source": [
    "import requests\n",
    "import pandas as pd\n",
    "from bs4 import BeautifulSoup"
   ]
  },
  {
   "cell_type": "code",
   "execution_count": 48,
   "metadata": {},
   "outputs": [
    {
     "name": "stdout",
     "output_type": "stream",
     "text": [
      "<div class=\"tombstone-container\">\n",
      " <p class=\"period-name\">\n",
      "  Overnight\n",
      "  <br/>\n",
      "  <br/>\n",
      " </p>\n",
      " <p>\n",
      "  <img alt=\"Overnight: Rain.  Low around 46. South southeast wind around 14 mph, with gusts as high as 18 mph.  Chance of precipitation is 80%. New precipitation amounts between a tenth and quarter of an inch possible. \" class=\"forecast-icon\" src=\"newimages/medium/nra80.png\" title=\"Overnight: Rain.  Low around 46. South southeast wind around 14 mph, with gusts as high as 18 mph.  Chance of precipitation is 80%. New precipitation amounts between a tenth and quarter of an inch possible. \"/>\n",
      " </p>\n",
      " <p class=\"short-desc\">\n",
      "  Rain\n",
      " </p>\n",
      " <p class=\"temp temp-low\">\n",
      "  Low: 46 °F\n",
      " </p>\n",
      "</div>\n"
     ]
    }
   ],
   "source": [
    "url                    = \"https://forecast.weather.gov/MapClick.php?lat=37.7772&lon=-122.4168#.XiAyAv5Kg1I\"\n",
    "response         = requests.get(url)\n",
    "soup                = BeautifulSoup(response.text, 'html.parser')\n",
    "seven_day      = soup.find(\"div\", {\"id\" : \"seven-day-forecast\"})\n",
    "forecast_item = list(seven_day.findAll(\"div\", {'class' : \"tombstone-container\" }))\n",
    "overnight        =forecast_item[0]\n",
    "\n",
    "print(overnight.prettify())"
   ]
  },
  {
   "cell_type": "code",
   "execution_count": 49,
   "metadata": {},
   "outputs": [
    {
     "name": "stdout",
     "output_type": "stream",
     "text": [
      "Overnight\n",
      "Rain\n",
      "Low: 46 °F\n",
      "Overnight: Rain.  Low around 46. South southeast wind around 14 mph, with gusts as high as 18 mph.  Chance of precipitation is 80%. New precipitation amounts between a tenth and quarter of an inch possible. \n"
     ]
    }
   ],
   "source": [
    "period        = overnight.find(\"p\", {\"class\" : \"period-name\"}).text\n",
    "short_desc = overnight.find(\"p\", {\"class\" : \"short-desc\"}).text\n",
    "temp           = overnight.find(\"p\", {\"class\" : \"temp temp-low\"}).text\n",
    "image         = overnight.find(\"img\")\n",
    "desc            = image[\"title\"]\n",
    "\n",
    "print(period)\n",
    "print(short_desc)\n",
    "print(temp)\n",
    "print(desc)"
   ]
  },
  {
   "cell_type": "code",
   "execution_count": 50,
   "metadata": {},
   "outputs": [
    {
     "name": "stdout",
     "output_type": "stream",
     "text": [
      " ['Overnight', 'Thursday', 'ThursdayNight', 'Friday', 'FridayNight', 'Saturday', 'SaturdayNight', 'Sunday', 'SundayNight']\n",
      "\n",
      "['Rain', 'Showers', 'Rain Likelythen SlightChance Rain', 'Mostly Cloudy', 'Cloudy', 'Partly Sunnythen ChanceRain', 'Chance Rainthen MostlyCloudy', 'Mostly Cloudy', 'Mostly Cloudy']\n",
      "\n",
      "['Low: 46 °F', 'High: 53 °F', 'Low: 44 °F', 'High: 54 °F', 'Low: 46 °F', 'High: 56 °F', 'Low: 46 °F', 'High: 58 °F', 'Low: 48 °F']\n",
      "\n",
      "['Overnight: Rain.  Low around 46. South southeast wind around 14 mph, with gusts as high as 18 mph.  Chance of precipitation is 80%. New precipitation amounts between a tenth and quarter of an inch possible. ', 'Thursday: Rain before 1pm, then showers and possibly a thunderstorm, mainly after 1pm.  High near 53. South wind 11 to 14 mph becoming west in the morning. Winds could gust as high as 21 mph.  Chance of precipitation is 100%. New rainfall amounts between a half and three quarters of an inch possible. ', 'Thursday Night: Rain likely, mainly before 10pm.  Mostly cloudy, with a low around 44. West northwest wind 6 to 11 mph becoming light  after midnight.  Chance of precipitation is 60%. New precipitation amounts of less than a tenth of an inch possible. ', 'Friday: Mostly cloudy, with a high near 54. East wind around 6 mph becoming calm  in the afternoon. ', 'Friday Night: Cloudy, with a low around 46. East wind 3 to 5 mph. ', 'Saturday: A 30 percent chance of rain after 4pm.  Partly sunny, with a high near 56.', 'Saturday Night: A 30 percent chance of rain before 10pm.  Mostly cloudy, with a low around 46.', 'Sunday: Mostly cloudy, with a high near 58.', 'Sunday Night: Mostly cloudy, with a low around 48.']\n"
     ]
    }
   ],
   "source": [
    "#Getting all my datas using css selector and list comprehension\n",
    "period_tags = seven_day.select(\".tombstone-container .period-name\") \n",
    "periods         = [ pt.text for pt in period_tags ]\n",
    "short_descs    = [sd.text for sd in  seven_day.select(\".tombstone-container .short-desc\")]\n",
    "temp             = [temp.text for temp in  seven_day.select(\".tombstone-container .temp \")]\n",
    "full_descs    = [fd[\"title\"] for fd in  seven_day.select(\".tombstone-container img\")]\n",
    "\n",
    "print(f\" {periods}\\n\\n{short_descs}\\n\\n{temp}\\n\\n{full_descs}\")"
   ]
  },
  {
   "cell_type": "code",
   "execution_count": 52,
   "metadata": {},
   "outputs": [
    {
     "data": {
      "text/html": [
       "<div>\n",
       "<style scoped>\n",
       "    .dataframe tbody tr th:only-of-type {\n",
       "        vertical-align: middle;\n",
       "    }\n",
       "\n",
       "    .dataframe tbody tr th {\n",
       "        vertical-align: top;\n",
       "    }\n",
       "\n",
       "    .dataframe thead th {\n",
       "        text-align: right;\n",
       "    }\n",
       "</style>\n",
       "<table border=\"1\" class=\"dataframe\">\n",
       "  <thead>\n",
       "    <tr style=\"text-align: right;\">\n",
       "      <th></th>\n",
       "      <th>period</th>\n",
       "      <th>summary</th>\n",
       "      <th>temperature</th>\n",
       "      <th>description</th>\n",
       "    </tr>\n",
       "  </thead>\n",
       "  <tbody>\n",
       "    <tr>\n",
       "      <th>0</th>\n",
       "      <td>Overnight</td>\n",
       "      <td>Rain</td>\n",
       "      <td>Low: 46 °F</td>\n",
       "      <td>Overnight: Rain.  Low around 46. South southea...</td>\n",
       "    </tr>\n",
       "    <tr>\n",
       "      <th>1</th>\n",
       "      <td>Thursday</td>\n",
       "      <td>Showers</td>\n",
       "      <td>High: 53 °F</td>\n",
       "      <td>Thursday: Rain before 1pm, then showers and po...</td>\n",
       "    </tr>\n",
       "    <tr>\n",
       "      <th>2</th>\n",
       "      <td>ThursdayNight</td>\n",
       "      <td>Rain Likelythen SlightChance Rain</td>\n",
       "      <td>Low: 44 °F</td>\n",
       "      <td>Thursday Night: Rain likely, mainly before 10p...</td>\n",
       "    </tr>\n",
       "    <tr>\n",
       "      <th>3</th>\n",
       "      <td>Friday</td>\n",
       "      <td>Mostly Cloudy</td>\n",
       "      <td>High: 54 °F</td>\n",
       "      <td>Friday: Mostly cloudy, with a high near 54. Ea...</td>\n",
       "    </tr>\n",
       "    <tr>\n",
       "      <th>4</th>\n",
       "      <td>FridayNight</td>\n",
       "      <td>Cloudy</td>\n",
       "      <td>Low: 46 °F</td>\n",
       "      <td>Friday Night: Cloudy, with a low around 46. Ea...</td>\n",
       "    </tr>\n",
       "    <tr>\n",
       "      <th>5</th>\n",
       "      <td>Saturday</td>\n",
       "      <td>Partly Sunnythen ChanceRain</td>\n",
       "      <td>High: 56 °F</td>\n",
       "      <td>Saturday: A 30 percent chance of rain after 4p...</td>\n",
       "    </tr>\n",
       "    <tr>\n",
       "      <th>6</th>\n",
       "      <td>SaturdayNight</td>\n",
       "      <td>Chance Rainthen MostlyCloudy</td>\n",
       "      <td>Low: 46 °F</td>\n",
       "      <td>Saturday Night: A 30 percent chance of rain be...</td>\n",
       "    </tr>\n",
       "    <tr>\n",
       "      <th>7</th>\n",
       "      <td>Sunday</td>\n",
       "      <td>Mostly Cloudy</td>\n",
       "      <td>High: 58 °F</td>\n",
       "      <td>Sunday: Mostly cloudy, with a high near 58.</td>\n",
       "    </tr>\n",
       "    <tr>\n",
       "      <th>8</th>\n",
       "      <td>SundayNight</td>\n",
       "      <td>Mostly Cloudy</td>\n",
       "      <td>Low: 48 °F</td>\n",
       "      <td>Sunday Night: Mostly cloudy, with a low around...</td>\n",
       "    </tr>\n",
       "  </tbody>\n",
       "</table>\n",
       "</div>"
      ],
      "text/plain": [
       "          period                            summary  temperature  \\\n",
       "0      Overnight                               Rain   Low: 46 °F   \n",
       "1       Thursday                            Showers  High: 53 °F   \n",
       "2  ThursdayNight  Rain Likelythen SlightChance Rain   Low: 44 °F   \n",
       "3         Friday                      Mostly Cloudy  High: 54 °F   \n",
       "4    FridayNight                             Cloudy   Low: 46 °F   \n",
       "5       Saturday        Partly Sunnythen ChanceRain  High: 56 °F   \n",
       "6  SaturdayNight       Chance Rainthen MostlyCloudy   Low: 46 °F   \n",
       "7         Sunday                      Mostly Cloudy  High: 58 °F   \n",
       "8    SundayNight                      Mostly Cloudy   Low: 48 °F   \n",
       "\n",
       "                                         description  \n",
       "0  Overnight: Rain.  Low around 46. South southea...  \n",
       "1  Thursday: Rain before 1pm, then showers and po...  \n",
       "2  Thursday Night: Rain likely, mainly before 10p...  \n",
       "3  Friday: Mostly cloudy, with a high near 54. Ea...  \n",
       "4  Friday Night: Cloudy, with a low around 46. Ea...  \n",
       "5  Saturday: A 30 percent chance of rain after 4p...  \n",
       "6  Saturday Night: A 30 percent chance of rain be...  \n",
       "7        Sunday: Mostly cloudy, with a high near 58.  \n",
       "8  Sunday Night: Mostly cloudy, with a low around...  "
      ]
     },
     "execution_count": 52,
     "metadata": {},
     "output_type": "execute_result"
    }
   ],
   "source": [
    "weather = pd.DataFrame({\n",
    "    \"period\" : periods,\n",
    "    \"summary\" : short_descs,\n",
    "    \"temperature\" : temp,\n",
    "    \"description\" : full_descs,\n",
    "})\n",
    "\n",
    "weather"
   ]
  },
  {
   "cell_type": "code",
   "execution_count": 66,
   "metadata": {},
   "outputs": [
    {
     "name": "stdout",
     "output_type": "stream",
     "text": [
      "<class 'pandas.core.frame.DataFrame'>\n",
      "RangeIndex: 9 entries, 0 to 8\n",
      "Data columns (total 5 columns):\n",
      "period         9 non-null object\n",
      "summary        9 non-null object\n",
      "temperature    9 non-null object\n",
      "description    9 non-null object\n",
      "temp_num       9 non-null int32\n",
      "dtypes: int32(1), object(4)\n",
      "memory usage: 404.0+ bytes\n"
     ]
    }
   ],
   "source": [
    "temp_nums = weather[\"temperature\"].str.extract(\"(?P<temp_num>\\d+)\", expand=False)\n",
    "weather[\"temp_num\"] = temp_nums.astype('int')\n",
    "weather.info()"
   ]
  },
  {
   "cell_type": "code",
   "execution_count": null,
   "metadata": {},
   "outputs": [],
   "source": []
  }
 ],
 "metadata": {
  "kernelspec": {
   "display_name": "Python 3",
   "language": "python",
   "name": "python3"
  },
  "language_info": {
   "codemirror_mode": {
    "name": "ipython",
    "version": 3
   },
   "file_extension": ".py",
   "mimetype": "text/x-python",
   "name": "python",
   "nbconvert_exporter": "python",
   "pygments_lexer": "ipython3",
   "version": "3.7.3"
  }
 },
 "nbformat": 4,
 "nbformat_minor": 2
}
