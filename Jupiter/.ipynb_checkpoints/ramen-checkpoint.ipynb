{
 "cells": [
  {
   "cell_type": "markdown",
   "metadata": {},
   "source": [
    "# Arise Application Challenge\n",
    "---"
   ]
  },
  {
   "cell_type": "markdown",
   "metadata": {},
   "source": [
    "Please answer the questions shown below by completing the code within this notebook and filling in your final answers in the respective block of the arise Challenge Answers form. "
   ]
  },
  {
   "cell_type": "markdown",
   "metadata": {},
   "source": [
    "---"
   ]
  },
  {
   "cell_type": "markdown",
   "metadata": {},
   "source": [
    "### Step 1 (this step does not have an answer in the answer form)"
   ]
  },
  {
   "cell_type": "markdown",
   "metadata": {},
   "source": [
    "Please import the Pandas package. You will need to install the package if you do not already have them (`hint - google anaconda install pandas`)."
   ]
  },
  {
   "cell_type": "code",
   "execution_count": 2,
   "metadata": {},
   "outputs": [],
   "source": [
    "# Add your code for Question 1 in this code block\n",
    "import pandas as pd\n",
    "import matplotlib.pyplot as plt"
   ]
  },
  {
   "cell_type": "markdown",
   "metadata": {},
   "source": [
    "---"
   ]
  },
  {
   "cell_type": "markdown",
   "metadata": {},
   "source": [
    "\n",
    "### Step 2 (this step does not have an answer in the answer form)"
   ]
  },
  {
   "cell_type": "markdown",
   "metadata": {},
   "source": [
    "Use Pandas to read in the csv titled `application_data.csv` as a Panda's dataframe. Once you have read in the data as a dataframe use Panda's `head()` function to show an overview of the data."
   ]
  },
  {
   "cell_type": "code",
   "execution_count": 3,
   "metadata": {},
   "outputs": [
    {
     "data": {
      "text/html": [
       "<div>\n",
       "<style scoped>\n",
       "    .dataframe tbody tr th:only-of-type {\n",
       "        vertical-align: middle;\n",
       "    }\n",
       "\n",
       "    .dataframe tbody tr th {\n",
       "        vertical-align: top;\n",
       "    }\n",
       "\n",
       "    .dataframe thead th {\n",
       "        text-align: right;\n",
       "    }\n",
       "</style>\n",
       "<table border=\"1\" class=\"dataframe\">\n",
       "  <thead>\n",
       "    <tr style=\"text-align: right;\">\n",
       "      <th></th>\n",
       "      <th>customerID</th>\n",
       "      <th>loanId</th>\n",
       "      <th>appilcationDate</th>\n",
       "      <th>LoanNumber</th>\n",
       "      <th>LoanAmount</th>\n",
       "      <th>InterestRate</th>\n",
       "      <th>TermDays</th>\n",
       "      <th>repaymentDueDate</th>\n",
       "      <th>repaymentPaidDate</th>\n",
       "    </tr>\n",
       "  </thead>\n",
       "  <tbody>\n",
       "    <tr>\n",
       "      <th>0</th>\n",
       "      <td>839247458</td>\n",
       "      <td>302953235622</td>\n",
       "      <td>2018-12-21</td>\n",
       "      <td>1</td>\n",
       "      <td>7500.0</td>\n",
       "      <td>30.0</td>\n",
       "      <td>30</td>\n",
       "      <td>2019-01-20</td>\n",
       "      <td>2019-01-16</td>\n",
       "    </tr>\n",
       "    <tr>\n",
       "      <th>1</th>\n",
       "      <td>217540860</td>\n",
       "      <td>302960101337</td>\n",
       "      <td>2018-12-23</td>\n",
       "      <td>1</td>\n",
       "      <td>7500.0</td>\n",
       "      <td>30.0</td>\n",
       "      <td>30</td>\n",
       "      <td>2019-01-22</td>\n",
       "      <td>2018-12-29</td>\n",
       "    </tr>\n",
       "    <tr>\n",
       "      <th>2</th>\n",
       "      <td>522238092</td>\n",
       "      <td>303016988846</td>\n",
       "      <td>2019-01-08</td>\n",
       "      <td>1</td>\n",
       "      <td>7500.0</td>\n",
       "      <td>30.0</td>\n",
       "      <td>30</td>\n",
       "      <td>2019-02-07</td>\n",
       "      <td>2019-01-08</td>\n",
       "    </tr>\n",
       "    <tr>\n",
       "      <th>3</th>\n",
       "      <td>096754469</td>\n",
       "      <td>302999605504</td>\n",
       "      <td>2019-01-04</td>\n",
       "      <td>1</td>\n",
       "      <td>7500.0</td>\n",
       "      <td>30.0</td>\n",
       "      <td>30</td>\n",
       "      <td>2019-02-03</td>\n",
       "      <td>2019-01-08</td>\n",
       "    </tr>\n",
       "    <tr>\n",
       "      <th>4</th>\n",
       "      <td>410354345</td>\n",
       "      <td>302951945878</td>\n",
       "      <td>2018-12-21</td>\n",
       "      <td>1</td>\n",
       "      <td>7500.0</td>\n",
       "      <td>30.0</td>\n",
       "      <td>30</td>\n",
       "      <td>2019-01-20</td>\n",
       "      <td>2019-01-17</td>\n",
       "    </tr>\n",
       "    <tr>\n",
       "      <th>5</th>\n",
       "      <td>027610141</td>\n",
       "      <td>302955854172</td>\n",
       "      <td>2018-12-22</td>\n",
       "      <td>6</td>\n",
       "      <td>45000.0</td>\n",
       "      <td>10.0</td>\n",
       "      <td>90</td>\n",
       "      <td>2019-03-21</td>\n",
       "      <td>2019-01-09</td>\n",
       "    </tr>\n",
       "    <tr>\n",
       "      <th>6</th>\n",
       "      <td>390748423</td>\n",
       "      <td>302941689535</td>\n",
       "      <td>2018-12-19</td>\n",
       "      <td>4</td>\n",
       "      <td>90000.0</td>\n",
       "      <td>5.0</td>\n",
       "      <td>180</td>\n",
       "      <td>2019-06-18</td>\n",
       "      <td>2019-01-15</td>\n",
       "    </tr>\n",
       "    <tr>\n",
       "      <th>7</th>\n",
       "      <td>642947351</td>\n",
       "      <td>302945727970</td>\n",
       "      <td>2018-12-19</td>\n",
       "      <td>3</td>\n",
       "      <td>45000.0</td>\n",
       "      <td>10.0</td>\n",
       "      <td>90</td>\n",
       "      <td>2019-03-19</td>\n",
       "      <td>2019-01-16</td>\n",
       "    </tr>\n",
       "    <tr>\n",
       "      <th>8</th>\n",
       "      <td>227382168</td>\n",
       "      <td>302953081988</td>\n",
       "      <td>2018-12-21</td>\n",
       "      <td>4</td>\n",
       "      <td>45000.0</td>\n",
       "      <td>10.0</td>\n",
       "      <td>90</td>\n",
       "      <td>2019-03-20</td>\n",
       "      <td>2019-01-16</td>\n",
       "    </tr>\n",
       "    <tr>\n",
       "      <th>9</th>\n",
       "      <td>380684555</td>\n",
       "      <td>302997991362</td>\n",
       "      <td>2019-01-03</td>\n",
       "      <td>4</td>\n",
       "      <td>30000.0</td>\n",
       "      <td>10.0</td>\n",
       "      <td>90</td>\n",
       "      <td>2019-04-02</td>\n",
       "      <td>2019-01-11</td>\n",
       "    </tr>\n",
       "  </tbody>\n",
       "</table>\n",
       "</div>"
      ],
      "text/plain": [
       "  customerID        loanId appilcationDate  LoanNumber  LoanAmount  \\\n",
       "0  839247458  302953235622      2018-12-21           1      7500.0   \n",
       "1  217540860  302960101337      2018-12-23           1      7500.0   \n",
       "2  522238092  303016988846      2019-01-08           1      7500.0   \n",
       "3  096754469  302999605504      2019-01-04           1      7500.0   \n",
       "4  410354345  302951945878      2018-12-21           1      7500.0   \n",
       "5  027610141  302955854172      2018-12-22           6     45000.0   \n",
       "6  390748423  302941689535      2018-12-19           4     90000.0   \n",
       "7  642947351  302945727970      2018-12-19           3     45000.0   \n",
       "8  227382168  302953081988      2018-12-21           4     45000.0   \n",
       "9  380684555  302997991362      2019-01-03           4     30000.0   \n",
       "\n",
       "   InterestRate  TermDays repaymentDueDate repaymentPaidDate  \n",
       "0          30.0        30       2019-01-20        2019-01-16  \n",
       "1          30.0        30       2019-01-22        2018-12-29  \n",
       "2          30.0        30       2019-02-07        2019-01-08  \n",
       "3          30.0        30       2019-02-03        2019-01-08  \n",
       "4          30.0        30       2019-01-20        2019-01-17  \n",
       "5          10.0        90       2019-03-21        2019-01-09  \n",
       "6           5.0       180       2019-06-18        2019-01-15  \n",
       "7          10.0        90       2019-03-19        2019-01-16  \n",
       "8          10.0        90       2019-03-20        2019-01-16  \n",
       "9          10.0        90       2019-04-02        2019-01-11  "
      ]
     },
     "execution_count": 3,
     "metadata": {},
     "output_type": "execute_result"
    }
   ],
   "source": [
    "# Add your code for Question 2 in this code block\n",
    "data  = pd.read_csv(\"application_data.csv\")\n",
    "data.head(10)"
   ]
  },
  {
   "cell_type": "code",
   "execution_count": 4,
   "metadata": {},
   "outputs": [
    {
     "data": {
      "text/html": [
       "<div>\n",
       "<style scoped>\n",
       "    .dataframe tbody tr th:only-of-type {\n",
       "        vertical-align: middle;\n",
       "    }\n",
       "\n",
       "    .dataframe tbody tr th {\n",
       "        vertical-align: top;\n",
       "    }\n",
       "\n",
       "    .dataframe thead th {\n",
       "        text-align: right;\n",
       "    }\n",
       "</style>\n",
       "<table border=\"1\" class=\"dataframe\">\n",
       "  <thead>\n",
       "    <tr style=\"text-align: right;\">\n",
       "      <th></th>\n",
       "      <th>customerID</th>\n",
       "      <th>loanId</th>\n",
       "      <th>appilcationDate</th>\n",
       "      <th>repaymentDueDate</th>\n",
       "      <th>repaymentPaidDate</th>\n",
       "    </tr>\n",
       "  </thead>\n",
       "  <tbody>\n",
       "    <tr>\n",
       "      <th>count</th>\n",
       "      <td>1000</td>\n",
       "      <td>1000</td>\n",
       "      <td>1000</td>\n",
       "      <td>1000</td>\n",
       "      <td>1000</td>\n",
       "    </tr>\n",
       "    <tr>\n",
       "      <th>unique</th>\n",
       "      <td>985</td>\n",
       "      <td>1000</td>\n",
       "      <td>254</td>\n",
       "      <td>302</td>\n",
       "      <td>263</td>\n",
       "    </tr>\n",
       "    <tr>\n",
       "      <th>top</th>\n",
       "      <td>686128144</td>\n",
       "      <td>301761523783</td>\n",
       "      <td>2018-12-19</td>\n",
       "      <td>2019-01-26</td>\n",
       "      <td>2019-01-16</td>\n",
       "    </tr>\n",
       "    <tr>\n",
       "      <th>freq</th>\n",
       "      <td>4</td>\n",
       "      <td>1</td>\n",
       "      <td>47</td>\n",
       "      <td>18</td>\n",
       "      <td>45</td>\n",
       "    </tr>\n",
       "  </tbody>\n",
       "</table>\n",
       "</div>"
      ],
      "text/plain": [
       "       customerID        loanId appilcationDate repaymentDueDate  \\\n",
       "count        1000          1000            1000             1000   \n",
       "unique        985          1000             254              302   \n",
       "top     686128144  301761523783      2018-12-19       2019-01-26   \n",
       "freq            4             1              47               18   \n",
       "\n",
       "       repaymentPaidDate  \n",
       "count               1000  \n",
       "unique               263  \n",
       "top           2019-01-16  \n",
       "freq                  45  "
      ]
     },
     "execution_count": 4,
     "metadata": {},
     "output_type": "execute_result"
    }
   ],
   "source": [
    "data.describe(include=[\"O\"])"
   ]
  },
  {
   "cell_type": "markdown",
   "metadata": {},
   "source": [
    "You should now be able to see that the dataset contains information relating to loans that have been disbursed. Each row of the data is specific to a particular loan and displays the customer's ID that took out the loan, a unique loan ID, the date when the client applied for the loan, the loan number of the specific loan (how many loans the client has now taken out), the amount, interest rate, term days, the date when the loan repayment was due and the date the loan was actually repaid."
   ]
  },
  {
   "cell_type": "markdown",
   "metadata": {},
   "source": [
    "---"
   ]
  },
  {
   "cell_type": "markdown",
   "metadata": {},
   "source": [
    "### Question 1"
   ]
  },
  {
   "cell_type": "markdown",
   "metadata": {},
   "source": [
    "Convert `appilcationDate`, `repaymentDueDate` and `repaymentPaidDate` in the dataframes to datetimes. "
   ]
  },
  {
   "cell_type": "code",
   "execution_count": 12,
   "metadata": {},
   "outputs": [],
   "source": [
    "# convert to dates\n",
    "\n",
    "data[\"appilcationDate\"] = pd.to_datetime(data[\"appilcationDate\"]) \n",
    "data[\"repaymentDueDate\"] = pd.to_datetime(data[\"repaymentDueDate\"])\n",
    "data[\"repaymentPaidDate\"] = pd.to_datetime(data[\"repaymentPaidDate\"])"
   ]
  },
  {
   "cell_type": "markdown",
   "metadata": {},
   "source": [
    "Now that the dates have been converted, How many `unique`data types are contained within the application dataset?"
   ]
  },
  {
   "cell_type": "code",
   "execution_count": 6,
   "metadata": {},
   "outputs": [
    {
     "name": "stdout",
     "output_type": "stream",
     "text": [
      "<class 'pandas.core.frame.DataFrame'>\n",
      "RangeIndex: 1000 entries, 0 to 999\n",
      "Data columns (total 10 columns):\n",
      "customerID           1000 non-null object\n",
      "loanId               1000 non-null object\n",
      "appilcationDate      1000 non-null object\n",
      "LoanNumber           1000 non-null int64\n",
      "LoanAmount           1000 non-null float64\n",
      "InterestRate         1000 non-null float64\n",
      "TermDays             1000 non-null int64\n",
      "repaymentDueDate     1000 non-null object\n",
      "repaymentPaidDate    1000 non-null object\n",
      "cov_date             1000 non-null datetime64[ns]\n",
      "dtypes: datetime64[ns](1), float64(2), int64(2), object(5)\n",
      "memory usage: 78.2+ KB\n"
     ]
    }
   ],
   "source": [
    "# data types\n",
    "data.info()"
   ]
  },
  {
   "cell_type": "markdown",
   "metadata": {},
   "source": [
    "### Question 2"
   ]
  },
  {
   "cell_type": "markdown",
   "metadata": {},
   "source": [
    "Please calculate the `average` loan amount, interest rate and termdays for all the loans in the dataset? `Round` all number to two decimal places."
   ]
  },
  {
   "cell_type": "code",
   "execution_count": 8,
   "metadata": {},
   "outputs": [
    {
     "data": {
      "text/plain": [
       "13828.08"
      ]
     },
     "execution_count": 8,
     "metadata": {},
     "output_type": "execute_result"
    }
   ],
   "source": [
    "# 2a avg loan amount\n",
    "\n",
    "loanamount = data.LoanAmount #[\"LoanAmount\"]\n",
    "type(loanamount)\n",
    "mean_loan = round(loanamount.mean(), 2)\n",
    "mean_loan\n"
   ]
  },
  {
   "cell_type": "code",
   "execution_count": 18,
   "metadata": {},
   "outputs": [],
   "source": [
    "# 2b avg interest rate\n"
   ]
  },
  {
   "cell_type": "code",
   "execution_count": 19,
   "metadata": {},
   "outputs": [
    {
     "name": "stdout",
     "output_type": "stream",
     "text": [
      "<class 'pandas.core.frame.DataFrame'>\n",
      "RangeIndex: 1000 entries, 0 to 999\n",
      "Data columns (total 9 columns):\n",
      "customerID           1000 non-null object\n",
      "loanId               1000 non-null object\n",
      "appilcationDate      1000 non-null datetime64[ns]\n",
      "LoanNumber           1000 non-null int64\n",
      "LoanAmount           1000 non-null float64\n",
      "InterestRate         1000 non-null float64\n",
      "TermDays             1000 non-null int64\n",
      "repaymentDueDate     1000 non-null datetime64[ns]\n",
      "repaymentPaidDate    1000 non-null datetime64[ns]\n",
      "dtypes: datetime64[ns](3), float64(2), int64(2), object(2)\n",
      "memory usage: 70.4+ KB\n"
     ]
    }
   ],
   "source": [
    "# 2c avg term days \n",
    "data.info()"
   ]
  },
  {
   "cell_type": "markdown",
   "metadata": {},
   "source": [
    "---"
   ]
  },
  {
   "cell_type": "markdown",
   "metadata": {},
   "source": [
    "### Question 3"
   ]
  },
  {
   "cell_type": "markdown",
   "metadata": {},
   "source": [
    "Please create a new column called `dateDifference` which needs to contains the number of days between when the loan was repaid and when it was due to be repaid. \n",
    "\n",
    "Count the number of loans that were paid more than 3 days late. This can be done by first creating a dataframe only containing the loans that were paid more than 3 days late. "
   ]
  },
  {
   "cell_type": "code",
   "execution_count": 15,
   "metadata": {},
   "outputs": [],
   "source": [
    "# date difference\n",
    "data['dateDifference'] = data['repaymentPaidDate'] -  data['repaymentDueDate']\n",
    "data\n",
    "# number of loans more than 3 days late\n",
    "is_greater_than3 = data.dateDifference.dt.days > 3\n",
    "is_greater_than3\n",
    "late_payments = data[is_greater_than3]#new table of people who payed later than 3days\n",
    "# late_payments\n",
    "# late_payments.count()\n",
    "late_count = len(late_payments)\n",
    "total = len(data)"
   ]
  },
  {
   "cell_type": "code",
   "execution_count": null,
   "metadata": {},
   "outputs": [],
   "source": [
    "late_count"
   ]
  },
  {
   "cell_type": "markdown",
   "metadata": {},
   "source": [
    "---"
   ]
  },
  {
   "cell_type": "markdown",
   "metadata": {},
   "source": [
    "### Question 4"
   ]
  },
  {
   "cell_type": "markdown",
   "metadata": {},
   "source": [
    "Please group the dataset by `TermDays` and calculate the `mean` loan amount and the `standard deviation` of loan amount within each term.\n",
    "\n",
    "What is the mean loan amount in 30-day loans and what is the standard deviation of  loan amount in 90-day loans? Please give your answers to the nearest two decimal places. "
   ]
  },
  {
   "cell_type": "code",
   "execution_count": 36,
   "metadata": {},
   "outputs": [
    {
     "name": "stdout",
     "output_type": "stream",
     "text": [
      "Mean 30day --> 7941.96, Standard dev 90day --> 18050.14\n"
     ]
    }
   ],
   "source": [
    "# mean loan amount in 30-day loans and standard deviation of loan amount in 90-day loans\n",
    "grouped_termed = data.groupby(\"TermDays\")\n",
    "\n",
    "grouped_termed.mean().LoanAmount\n",
    "mean_loan_30days = list(grouped_termed.mean()['LoanAmount'])[1]\n",
    "mean_loan_30days\n",
    "#standard deviation of loan amount in 90-day loans\n",
    "std_loan_90days = list(grouped_termed.std()['LoanAmount'])[4]\n",
    "\n",
    "print(f\"Mean 30day --> {round(mean_loan_30days,2)}, Standard dev 90day --> {round(std_loan_90days,2)}\")"
   ]
  },
  {
   "cell_type": "markdown",
   "metadata": {},
   "source": [
    "### Question 5"
   ]
  },
  {
   "cell_type": "markdown",
   "metadata": {},
   "source": [
    "`Late` loans are defined as loans that were paid `more than 3 days` after their due date. Please find the average number of days that these loans were paid beyond their due date for each `week of the year`. This will require you to break all `appilcationDate's` down into the week of the year they were made and then perform a group by. \n",
    "\n",
    "What is the average number of days that `late` loans applied for in the second week of the year were paid late? Please sumbit your answer rounded to two decimal places. "
   ]
  },
  {
   "cell_type": "code",
   "execution_count": 44,
   "metadata": {},
   "outputs": [],
   "source": [
    "# late_payments[\"week\"] = late_payments['appilcationDate'].dt.week\n",
    "# late_payments"
   ]
  },
  {
   "cell_type": "code",
   "execution_count": 47,
   "metadata": {},
   "outputs": [
    {
     "data": {
      "text/plain": [
       "Timedelta('45 days 18:00:00')"
      ]
     },
     "execution_count": 47,
     "metadata": {},
     "output_type": "execute_result"
    }
   ],
   "source": [
    "late_pay_filter = late_payments[\"week\"] == 2\n",
    "# late_pay_filter\n",
    "late_payments[late_pay_filter].dateDifference.mean()"
   ]
  },
  {
   "cell_type": "code",
   "execution_count": 43,
   "metadata": {},
   "outputs": [
    {
     "data": {
      "text/plain": [
       "45.75"
      ]
     },
     "execution_count": 43,
     "metadata": {},
     "output_type": "execute_result"
    }
   ],
   "source": [
    "# week of year and average number of late days\n",
    "# late_payments['late_int'] =  late_payments.dateDifference.dt.days\n",
    "# appilcationDate = late_payments.groupby(late_payments['appilcationDate'].dt.week).mean()\n",
    "# appilcationDate\n",
    "avg_on_second_week = appilcationDate[\"late_int\"]\n",
    "avg_on_second_week[2]\n",
    "# appilcationDate\n",
    "# late_payments"
   ]
  },
  {
   "cell_type": "markdown",
   "metadata": {},
   "source": [
    "---"
   ]
  },
  {
   "cell_type": "markdown",
   "metadata": {},
   "source": [
    "### The End"
   ]
  },
  {
   "cell_type": "markdown",
   "metadata": {},
   "source": [
    "Thank you for completing the challenge. Please make sure you have submitted all of your answers to the arise Challenge Answers form. "
   ]
  },
  {
   "cell_type": "markdown",
   "metadata": {},
   "source": [
    "### Notebook\n",
    "Please save you notebook as `yourEmail.ipynb` where you replace `yourEmail` with your actual email address and attach it to the arise Challenge Answers form. "
   ]
  }
 ],
 "metadata": {
  "kernelspec": {
   "display_name": "Python 3",
   "language": "python",
   "name": "python3"
  },
  "language_info": {
   "codemirror_mode": {
    "name": "ipython",
    "version": 3
   },
   "file_extension": ".py",
   "mimetype": "text/x-python",
   "name": "python",
   "nbconvert_exporter": "python",
   "pygments_lexer": "ipython3",
   "version": "3.7.3"
  }
 },
 "nbformat": 4,
 "nbformat_minor": 2
}
